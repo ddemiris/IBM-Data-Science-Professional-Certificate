{
 "cells": [
  {
   "cell_type": "markdown",
   "id": "c2ed298a-b931-4f67-b3bb-b70306cae74e",
   "metadata": {},
   "source": [
    "# Data Science Tools and Ecosystem"
   ]
  },
  {
   "cell_type": "markdown",
   "id": "a171d382-c9ef-42cf-be72-021abbf48b55",
   "metadata": {},
   "source": [
    "## In this notebook, Data Science Tools and Ecosystem are summarized."
   ]
  },
  {
   "cell_type": "markdown",
   "id": "84389246-9b45-4b73-9d20-3a239f6bb749",
   "metadata": {},
   "source": [
    "### Some of the popular languages that Data Scientists use are:\n",
    "\n",
    "1. Python\n",
    "2. R\n",
    "3. Scala"
   ]
  },
  {
   "cell_type": "markdown",
   "id": "233756a4-4d24-4e74-b36f-6b182a9af97a",
   "metadata": {},
   "source": [
    "### Some of the commonly used libraries used by Data Scientists include:\n",
    "\n",
    "1. NumPy – Numerical computing with arrays and matrices.\n",
    "2. Pandas – Data manipulation and analysis.\n",
    "3. Matplotlib – Data visualization.\n",
    "4. Seaborn – Statistical data visualization.\n",
    "5. Scikit-learn – Machine learning algorithms and models.\n",
    "6. TensorFlow – Deep learning framework."
   ]
  },
  {
   "cell_type": "markdown",
   "id": "b27a3142-659d-4dd7-902b-73f101bbc9a5",
   "metadata": {},
   "source": [
    "| Data Science Tools |\n",
    "|--------------------|\n",
    "| Jupyter Notebook   |\n",
    "| RStudio            |\n",
    "| Spyder             |\n"
   ]
  },
  {
   "cell_type": "markdown",
   "id": "280ddf79-7a64-4a87-8d31-07fd6f68abbd",
   "metadata": {},
   "source": [
    "### Below are a few examples of evaluating arithmetic expressions in Python.\n",
    "\n",
    "Arithmetic expressions are fundamental in programming and are used to perform basic mathematical operations such as addition, subtraction, multiplication, and division. Here are some examples:\n",
    "\n",
    "- `3 + 5` → Addition (Result: `8`)\n",
    "- `10 - 4` → Subtraction (Result: `6`)\n",
    "- `6 * 7` → Multiplication (Result: `42`)\n",
    "- `20 / 4` → Division (Result: `5.0`)\n",
    "- `2 ** 3` → Exponentiation (Result: `8`)\n",
    "- `10 % 3` → Modulus (Result: `1`)\n",
    "\n",
    "These operations are commonly used in data science for numerical computations and data processing.\n"
   ]
  },
  {
   "cell_type": "code",
   "execution_count": 32,
   "id": "ca849bf6-f6a6-4382-8448-4c5ce67104e2",
   "metadata": {},
   "outputs": [
    {
     "data": {
      "text/plain": [
       "17"
      ]
     },
     "execution_count": 32,
     "metadata": {},
     "output_type": "execute_result"
    }
   ],
   "source": [
    "# This is a simple arithmetic expression to multiply then add integers.\n",
    "(3 * 4) + 5\n"
   ]
  },
  {
   "cell_type": "code",
   "execution_count": 33,
   "id": "38bd56c1-643b-42a8-b04f-1c0f1e847aab",
   "metadata": {},
   "outputs": [
    {
     "data": {
      "text/plain": [
       "3.3333333333333335"
      ]
     },
     "execution_count": 33,
     "metadata": {},
     "output_type": "execute_result"
    }
   ],
   "source": [
    "# This will convert 200 minutes to hours by dividing by 60.\n",
    "200 / 60\n"
   ]
  },
  {
   "cell_type": "markdown",
   "id": "cc7b30af-5fd4-4d4e-ba2d-f8a0b8e1bdba",
   "metadata": {},
   "source": [
    "**Objectives:**\n",
    "\n",
    "- List popular languages for Data Science\n",
    "- Identify commonly used libraries in Data Science\n",
    "- Demonstrate arithmetic expressions in Python\n",
    "- Convert minutes into hours using Python expressions\n",
    "- Explore open-source development tools for Data Science\n"
   ]
  },
  {
   "cell_type": "markdown",
   "id": "0b7e5ea2-1a3d-40ac-b8e7-eecbc5173d30",
   "metadata": {},
   "source": [
    "## Author\n",
    "\n",
    "Dimitrios Demiris\n"
   ]
  },
  {
   "cell_type": "code",
   "execution_count": null,
   "id": "c10bb794-d933-4121-acb9-a2c89dd3e0a5",
   "metadata": {},
   "outputs": [],
   "source": []
  }
 ],
 "metadata": {
  "kernelspec": {
   "display_name": "Python 3 (ipykernel)",
   "language": "python",
   "name": "python3"
  },
  "language_info": {
   "codemirror_mode": {
    "name": "ipython",
    "version": 3
   },
   "file_extension": ".py",
   "mimetype": "text/x-python",
   "name": "python",
   "nbconvert_exporter": "python",
   "pygments_lexer": "ipython3",
   "version": "3.8.18"
  },
  "widgets": {
   "application/vnd.jupyter.widget-state+json": {
    "state": {},
    "version_major": 2,
    "version_minor": 0
   }
  }
 },
 "nbformat": 4,
 "nbformat_minor": 5
}
